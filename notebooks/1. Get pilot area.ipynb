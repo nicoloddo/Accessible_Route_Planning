{
  "cells": [
    {
      "cell_type": "markdown",
      "metadata": {
        "nteract": {
          "transient": {
            "deleting": false
          }
        }
      },
      "source": [
        "# 1. Get pilot area "
      ]
    },
    {
      "cell_type": "code",
      "execution_count": 1,
      "metadata": {
        "gather": {
          "logged": 1699442406434
        }
      },
      "outputs": [
        {
          "name": "stderr",
          "output_type": "stream",
          "text": [
            "/home/zeus/miniconda3/envs/cloudspace/lib/python3.10/site-packages/geopandas/_compat.py:153: UserWarning: The Shapely GEOS version (3.10.3-CAPI-1.16.1) is incompatible with the GEOS version PyGEOS was compiled with (3.10.4-CAPI-1.16.2). Conversions between both will be slow.\n",
            "  set_use_pygeos()\n",
            "/tmp/ipykernel_19876/249664333.py:2: DeprecationWarning: GeoPandas is set to use PyGEOS over Shapely. PyGEOS support is deprecatedand will be removed in GeoPandas 1.0, released in the Q1 of 2024. Please migrate to Shapely 2.0 (https://geopandas.org/en/stable/docs/user_guide/pygeos_to_shapely.html).\n",
            "  import geopandas as gpd\n"
          ]
        }
      ],
      "source": [
        "# Third-party library imports\n",
        "import geopandas as gpd\n",
        "from shapely.geometry import Polygon\n",
        "\n",
        "# Local or project-specific imports\n",
        "import settings as st\n",
        "\n",
        "if st.my_run == \"azure\":\n",
        "    import config_azure as cf\n",
        "elif st.my_run == \"local\":\n",
        "    import config as cf"
      ]
    },
    {
      "cell_type": "markdown",
      "metadata": {
        "nteract": {
          "transient": {
            "deleting": false
          }
        }
      },
      "source": [
        "## Pull polygon of pilot area \n",
        "When running the demo code, this polygon has been pre-set in the settings. \n",
        "\\\n",
        "If you wish to run the code on one of the administrative areas of Amsterdam, you should fill in the area(s) in the settings file."
      ]
    },
    {
      "cell_type": "code",
      "execution_count": 2,
      "metadata": {
        "gather": {
          "logged": 1699442411190
        },
        "jupyter": {
          "outputs_hidden": false,
          "source_hidden": false
        },
        "nteract": {
          "transient": {
            "deleting": false
          }
        }
      },
      "outputs": [],
      "source": [
        "# Get area data\n",
        "if st.my_areas:\n",
        "    area_url = \"https://api.data.amsterdam.nl/v1/gebieden/\" + st.area_choice + \"/?_format=geojson\" \n",
        "    gdf_area_raw = gpd.read_file(area_url)"
      ]
    },
    {
      "cell_type": "code",
      "execution_count": 3,
      "metadata": {
        "gather": {
          "logged": 1699442413308
        },
        "jupyter": {
          "outputs_hidden": false,
          "source_hidden": false
        },
        "nteract": {
          "transient": {
            "deleting": false
          }
        }
      },
      "outputs": [],
      "source": [
        "# Select columns of geodataframe\n",
        "if st.my_areas:\n",
        "    gdf_area = gdf_area_raw[['geometry', 'code', 'naam']]\n",
        "    gdf_area = gdf_area.to_crs(st.CRS)\n",
        "else:\n",
        "    polygon = Polygon(st.coordinates)\n",
        "    gdf_area = gpd.GeoDataFrame(geometry=[polygon], crs=st.CRS)\n",
        "    gdf_area['naam'] = 'Part Osdorp-Midden'\n",
        "    gdf_area['code'] = 'OM'"
      ]
    },
    {
      "cell_type": "markdown",
      "metadata": {
        "nteract": {
          "transient": {
            "deleting": false
          }
        }
      },
      "source": [
        "## Store"
      ]
    },
    {
      "cell_type": "code",
      "execution_count": 4,
      "metadata": {
        "gather": {
          "logged": 1699442416611
        },
        "jupyter": {
          "outputs_hidden": false,
          "source_hidden": false
        },
        "nteract": {
          "transient": {
            "deleting": false
          }
        }
      },
      "outputs": [],
      "source": [
        "# Make a selection of areas\n",
        "if st.my_areas:\n",
        "    gdf_area_select = gdf_area[gdf_area['naam'].isin(st.my_areas)].reset_index(drop=True)\n",
        "else:\n",
        "    gdf_area_select = gdf_area"
      ]
    },
    {
      "cell_type": "code",
      "execution_count": 5,
      "metadata": {
        "gather": {
          "logged": 1699442419183
        },
        "jupyter": {
          "outputs_hidden": false,
          "source_hidden": false
        },
        "nteract": {
          "transient": {
            "deleting": false
          }
        }
      },
      "outputs": [],
      "source": [
        "# Store area geometries in a file\n",
        "gdf_area_select.to_file(cf.output_pilot_area, driver='GeoJSON')"
      ]
    }
  ],
  "metadata": {
    "kernel_info": {
      "name": "venv_arp"
    },
    "kernelspec": {
      "display_name": "route_planner",
      "language": "python",
      "name": "python3"
    },
    "language_info": {
      "codemirror_mode": {
        "name": "ipython",
        "version": 3
      },
      "file_extension": ".py",
      "mimetype": "text/x-python",
      "name": "python",
      "nbconvert_exporter": "python",
      "pygments_lexer": "ipython3",
      "version": "3.10.10"
    },
    "microsoft": {
      "host": {
        "AzureML": {
          "notebookHasBeenCompleted": true
        }
      },
      "ms_spell_check": {
        "ms_spell_check_language": "en"
      }
    },
    "nteract": {
      "version": "nteract-front-end@1.0.0"
    }
  },
  "nbformat": 4,
  "nbformat_minor": 2
}
